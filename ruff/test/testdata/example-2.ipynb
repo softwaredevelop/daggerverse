{
 "cells": [
  {
   "cell_type": "code",
   "execution_count": null,
   "metadata": {},
   "outputs": [],
   "source": [
    "from my_lib import Object1\n",
    "\n",
    "import os\n",
    "\n",
    "from my_lib import Object3\n",
    "\n",
    "from my_lib import Object2\n",
    "\n",
    "import sys\n",
    "\n",
    "from third_party import (\n",
    "    lib3,\n",
    "    lib1,\n",
    "    lib2,\n",
    ")\n",
    "\n",
    "import sys\n",
    "\n",
    "from __future__ import absolute_import\n",
    "\n",
    "from third_party import lib3\n",
    "\n",
    "print(\"Hey\")\n",
    "print(\"yo\")"
   ]
  }
 ],
 "metadata": {
  "kernelspec": {
   "display_name": "t",
   "language": "python",
   "name": "python3"
  },
  "language_info": {
   "name": "python",
   "version": "3.12.7"
  }
 },
 "nbformat": 4,
 "nbformat_minor": 2
}
